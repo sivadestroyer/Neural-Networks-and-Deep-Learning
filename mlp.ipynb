{
  "nbformat": 4,
  "nbformat_minor": 0,
  "metadata": {
    "colab": {
      "provenance": []
    },
    "kernelspec": {
      "name": "python3",
      "display_name": "Python 3"
    },
    "language_info": {
      "name": "python"
    }
  },
  "cells": [
    {
      "cell_type": "code",
      "execution_count": 2,
      "metadata": {
        "id": "xFl-2Wic49Py"
      },
      "outputs": [],
      "source": [
        "from tensorflow.keras.layers import Dense,\n",
        "from keras.utils import to_categorical\n",
        "from tensorflow.keras.layers import Flatten\n"
      ]
    },
    {
      "cell_type": "code",
      "source": [
        "from keras.datasets import mnist\n",
        "from keras.models import Sequential"
      ],
      "metadata": {
        "id": "HX1lq9zv9l6-"
      },
      "execution_count": 3,
      "outputs": []
    },
    {
      "cell_type": "code",
      "source": [
        "import matplotlib.pyplot as plt"
      ],
      "metadata": {
        "id": "Kl8CN7KBl1_n"
      },
      "execution_count": 8,
      "outputs": []
    },
    {
      "cell_type": "code",
      "source": [
        "import numpy as np"
      ],
      "metadata": {
        "id": "Pdvmvj8PqOTc"
      },
      "execution_count": 24,
      "outputs": []
    },
    {
      "cell_type": "code",
      "source": [
        "(trainx,trainy),(testx,testy)=mnist.load_data()"
      ],
      "metadata": {
        "colab": {
          "base_uri": "https://localhost:8080/"
        },
        "id": "3CdELK1zkyGo",
        "outputId": "d59bebda-41ba-4156-bb7e-6d113e8802fa"
      },
      "execution_count": 5,
      "outputs": [
        {
          "output_type": "stream",
          "name": "stdout",
          "text": [
            "Downloading data from https://storage.googleapis.com/tensorflow/tf-keras-datasets/mnist.npz\n",
            "11490434/11490434 [==============================] - 1s 0us/step\n"
          ]
        }
      ]
    },
    {
      "cell_type": "code",
      "source": [
        "trainx.shape"
      ],
      "metadata": {
        "colab": {
          "base_uri": "https://localhost:8080/"
        },
        "id": "K-xbZF0glGfb",
        "outputId": "5d046b60-4728-46bf-ef6b-2370abd1e673"
      },
      "execution_count": 6,
      "outputs": [
        {
          "output_type": "execute_result",
          "data": {
            "text/plain": [
              "(60000, 28, 28)"
            ]
          },
          "metadata": {},
          "execution_count": 6
        }
      ]
    },
    {
      "cell_type": "code",
      "source": [
        "testx.shape"
      ],
      "metadata": {
        "colab": {
          "base_uri": "https://localhost:8080/"
        },
        "id": "62DSMRxdlJg3",
        "outputId": "31eeb44b-aa9a-4f67-f20f-9f5707dde913"
      },
      "execution_count": 7,
      "outputs": [
        {
          "output_type": "execute_result",
          "data": {
            "text/plain": [
              "(10000, 28, 28)"
            ]
          },
          "metadata": {},
          "execution_count": 7
        }
      ]
    },
    {
      "cell_type": "code",
      "source": [
        "trainx=trainx.reshape((60000, 784))\n",
        "testx=testx.reshape((10000, 784))"
      ],
      "metadata": {
        "id": "pGwg0ve-qgtO"
      },
      "execution_count": 27,
      "outputs": []
    },
    {
      "cell_type": "code",
      "source": [
        "trainy=to_categorical(trainy)\n",
        "testy=to_categorical(testy)"
      ],
      "metadata": {
        "id": "KMuqZ4ddnK-o"
      },
      "execution_count": 16,
      "outputs": []
    },
    {
      "cell_type": "code",
      "source": [
        "trainx=trainx.astype('float32')/255.0\n",
        "testx=testx.astype('float32')/255.0"
      ],
      "metadata": {
        "id": "ks8FClEDnW3U"
      },
      "execution_count": 17,
      "outputs": []
    },
    {
      "cell_type": "code",
      "source": [
        "fig,axs=plt.subplots(4,4,figsize=(10,10))\n",
        "for i in range(16):\n",
        "  r=i//4\n",
        "  c=i%4\n",
        "  ax=axs[r,c]\n",
        "  ax.imshow(trainx[i])\n",
        "  ax.axis('off')\n",
        "plt.tight_layout()\n",
        "plt.show()"
      ],
      "metadata": {
        "colab": {
          "base_uri": "https://localhost:8080/",
          "height": 1000
        },
        "id": "66T5fshSlL6y",
        "outputId": "14b22a41-cf49-42ce-8876-d40b61f28d9a"
      },
      "execution_count": 18,
      "outputs": [
        {
          "output_type": "display_data",
          "data": {
            "text/plain": [
              "<Figure size 1000x1000 with 16 Axes>"
            ],
            "image/png": "[encoded data removed]"
          },
          "metadata": {}
        }
      ]
    },
    {
      "cell_type": "code",
      "source": [
        "model=Sequential()\n",
        "model.add(Dense(512,activation='relu',input_shape=(784,)))\n",
        "model.add(Dense(256,activation='relu'))\n",
        "model.add(Dense(128,activation='relu'))\n",
        "model.add(Dense(64,activation='relu'))\n",
        "model.add(Dense(10,activation='softmax'))\n",
        "model.summary()"
      ],
      "metadata": {
        "colab": {
          "base_uri": "https://localhost:8080/"
        },
        "id": "DXYJJDuEm_nJ",
        "outputId": "7cf1c4ee-a1c9-405a-ef9a-47eb4e442e9c"
      },
      "execution_count": 30,
      "outputs": [
        {
          "output_type": "stream",
          "name": "stdout",
          "text": [
            "Model: \"sequential_2\"\n",
            "_________________________________________________________________\n",
            " Layer (type)                Output Shape              Param #   \n",
            "=================================================================\n",
            " dense_10 (Dense)            (None, 512)               401920    \n",
            "                                                                 \n",
            " dense_11 (Dense)            (None, 256)               131328    \n",
            "                                                                 \n",
            " dense_12 (Dense)            (None, 128)               32896     \n",
            "                                                                 \n",
            " dense_13 (Dense)            (None, 64)                8256      \n",
            "                                                                 \n",
            " dense_14 (Dense)            (None, 10)                650       \n",
            "                                                                 \n",
            "=================================================================\n",
            "Total params: 575,050\n",
            "Trainable params: 575,050\n",
            "Non-trainable params: 0\n",
            "_________________________________________________________________\n"
          ]
        }
      ]
    },
    {
      "cell_type": "code",
      "source": [
        "model.compile(optimizer='adam',loss='sparse_categorical_crossentropy',metrics=['accuracy'])"
      ],
      "metadata": {
        "id": "dm39ZF0TpMqy"
      },
      "execution_count": 31,
      "outputs": []
    },
    {
      "cell_type": "code",
      "source": [
        "history=model.fit(trainx, np.argmax(trainy, axis=1),epochs=5,batch_size=32,validation_split=0.1)"
      ],
      "metadata": {
        "colab": {
          "base_uri": "https://localhost:8080/"
        },
        "id": "EFsympv5paSp",
        "outputId": "0e02c6e3-7d63-4502-e81b-cc6eb0953056"
      },
      "execution_count": 32,
      "outputs": [
        {
          "output_type": "stream",
          "name": "stdout",
          "text": [
            "Epoch 1/5\n",
            "1688/1688 [==============================] - 22s 13ms/step - loss: 0.2256 - accuracy: 0.9324 - val_loss: 0.0905 - val_accuracy: 0.9735\n",
            "Epoch 2/5\n",
            "1688/1688 [==============================] - 18s 11ms/step - loss: 0.0985 - accuracy: 0.9701 - val_loss: 0.0975 - val_accuracy: 0.9725\n",
            "Epoch 3/5\n",
            "1688/1688 [==============================] - 19s 11ms/step - loss: 0.0702 - accuracy: 0.9792 - val_loss: 0.0839 - val_accuracy: 0.9753\n",
            "Epoch 4/5\n",
            "1688/1688 [==============================] - 19s 11ms/step - loss: 0.0530 - accuracy: 0.9837 - val_loss: 0.0736 - val_accuracy: 0.9818\n",
            "Epoch 5/5\n",
            "1688/1688 [==============================] - 20s 12ms/step - loss: 0.0450 - accuracy: 0.9861 - val_loss: 0.0799 - val_accuracy: 0.9782\n"
          ]
        }
      ]
    },
    {
      "cell_type": "code",
      "source": [
        "plt.plot(history.history['accuracy'])\n",
        "plt.plot(history.history['val_accuracy'])"
      ],
      "metadata": {
        "colab": {
          "base_uri": "https://localhost:8080/",
          "height": 447
        },
        "id": "f_UJQrQwwoNj",
        "outputId": "faab227d-c18e-4ef2-b375-6f711275f675"
      },
      "execution_count": 33,
      "outputs": [
        {
          "output_type": "execute_result",
          "data": {
            "text/plain": [
              "[<matplotlib.lines.Line2D at 0x7f731fe37c40>]"
            ]
          },
          "metadata": {},
          "execution_count": 33
        },
        {
          "output_type": "display_data",
          "data": {
            "text/plain": [
              "<Figure size 640x480 with 1 Axes>"
            ],
            "image/png": "[encoded data removed]"
          },
          "metadata": {}
        }
      ]
    },
    {
      "cell_type": "code",
      "source": [
        "acc=model.evaluate(testx,np.argmax(testy, axis=1))"
      ],
      "metadata": {
        "colab": {
          "base_uri": "https://localhost:8080/"
        },
        "id": "9m-QuysbxBBq",
        "outputId": "bdcac939-09a5-41db-e751-b96de80bd11b"
      },
      "execution_count": 35,
      "outputs": [
        {
          "output_type": "stream",
          "name": "stdout",
          "text": [
            "313/313 [==============================] - 1s 4ms/step - loss: 0.0940 - accuracy: 0.9752\n"
          ]
        }
      ]
    },
    {
      "cell_type": "code",
      "source": [],
      "metadata": {
        "id": "0snqqrm8xX0I"
      },
      "execution_count": null,
      "outputs": []
    }
  ]
}